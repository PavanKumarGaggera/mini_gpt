{
 "cells": [
  {
   "cell_type": "code",
   "execution_count": 1,
   "id": "1a8d8633-310d-41ae-84b4-72f3f4e1b154",
   "metadata": {},
   "outputs": [],
   "source": [
    "# Import necessary libraries\n",
    "\n",
    "import os\n",
    "from dotenv import load_dotenv\n",
    "from openai import OpenAI\n",
    "import gradio as gr"
   ]
  },
  {
   "cell_type": "code",
   "execution_count": 3,
   "id": "88887c3c-e1a6-44ab-ae47-a2c25f354d9b",
   "metadata": {},
   "outputs": [
    {
     "name": "stdout",
     "output_type": "stream",
     "text": [
      "OpenAI API Key exists and begins sk-proj-\n",
      "Anthropic API Key exists and begins sk-ant-\n",
      "Google API Key exists and begins AIzaSyBg\n"
     ]
    }
   ],
   "source": [
    "# Load environment variables in a file called .env\n",
    "# Print the key prefixes to help with any debugging\n",
    "\n",
    "load_dotenv()\n",
    "openai_api_key = os.getenv('OPENAI_API_KEY')\n",
    "anthropic_api_key = os.getenv('ANTHROPIC_API_KEY')\n",
    "google_api_key = os.getenv('GOOGLE_API_KEY')\n",
    "\n",
    "if openai_api_key:\n",
    "    print(f\"OpenAI API Key exists and begins {openai_api_key[:8]}\")\n",
    "else:\n",
    "    print(\"OpenAI API Key not set\")\n",
    "    \n",
    "if anthropic_api_key:\n",
    "    print(f\"Anthropic API Key exists and begins {anthropic_api_key[:7]}\")\n",
    "else:\n",
    "    print(\"Anthropic API Key not set\")\n",
    "\n",
    "if google_api_key:\n",
    "    print(f\"Google API Key exists and begins {google_api_key[:8]}\")\n",
    "else:\n",
    "    print(\"Google API Key not set\")"
   ]
  },
  {
   "cell_type": "code",
   "execution_count": 4,
   "id": "4c82d0ef-192c-4de1-8dc4-be47dfacf838",
   "metadata": {},
   "outputs": [],
   "source": [
    "# Initialize \n",
    "\n",
    "openai = OpenAI()\n",
    "\n",
    "model = \"gpt-4o-mini\""
   ]
  },
  {
   "cell_type": "code",
   "execution_count": 5,
   "id": "f6e42da1-c2ab-48a0-854b-6f8516ca8998",
   "metadata": {},
   "outputs": [],
   "source": [
    "system_message = \"You're a helpful assistant\""
   ]
  },
  {
   "cell_type": "code",
   "execution_count": 7,
   "id": "c95b152a-bf7b-4ae5-8b4b-6af232fe7a5f",
   "metadata": {},
   "outputs": [],
   "source": [
    "# Create a function for chat and history\n",
    "\n",
    "def chat(message, history):\n",
    "    messages = [{\"role\" : \"system\", \"content\" : system_message}] + history + [{\"role\" : \"user\", \"content\" : message}]\n",
    "\n",
    "    print(\"History is: \")\n",
    "    print(f\"{history}\\n\")\n",
    "    print(\"messsage is: \")\n",
    "    print(f\"{message} \\n\")\n",
    "\n",
    "    stream = openai.chat.completions.create(model = model, messages = messages, stream = True)\n",
    "\n",
    "    response = \"\"\n",
    "    for chunk in stream:\n",
    "        response += chunk.choices[0].delta.content or ''\n",
    "        yield response"
   ]
  },
  {
   "cell_type": "code",
   "execution_count": 11,
   "id": "8c6f79ff-c039-4071-9d98-4b431505602f",
   "metadata": {},
   "outputs": [],
   "source": [
    "iface = gr.ChatInterface(fn = chat, type = \"messages\")"
   ]
  },
  {
   "cell_type": "code",
   "execution_count": 13,
   "id": "93f9262b-b4f9-44cc-a07a-14b2d6a3beff",
   "metadata": {},
   "outputs": [
    {
     "name": "stdout",
     "output_type": "stream",
     "text": [
      "Rerunning server... use `close()` to stop if you need to change `launch()` parameters.\n",
      "----\n",
      "\n",
      "To create a public link, set `share=True` in `launch()`.\n"
     ]
    },
    {
     "data": {
      "text/html": [
       "<div><iframe src=\"http://127.0.0.1:7928/\" width=\"100%\" height=\"500\" allow=\"autoplay; camera; microphone; clipboard-read; clipboard-write;\" frameborder=\"0\" allowfullscreen></iframe></div>"
      ],
      "text/plain": [
       "<IPython.core.display.HTML object>"
      ]
     },
     "metadata": {},
     "output_type": "display_data"
    },
    {
     "data": {
      "text/plain": []
     },
     "execution_count": 13,
     "metadata": {},
     "output_type": "execute_result"
    },
    {
     "name": "stdout",
     "output_type": "stream",
     "text": [
      "History is: \n",
      "[]\n",
      "\n",
      "messsage is: \n",
      "Hey can you help me with something \n",
      "\n",
      "History is: \n",
      "[{'role': 'user', 'metadata': None, 'content': 'Hey can you help me with something', 'options': None}, {'role': 'assistant', 'metadata': None, 'content': 'Of course! What do you need help with?', 'options': None}]\n",
      "\n",
      "messsage is: \n",
      "Can you help me with anything \n",
      "\n"
     ]
    }
   ],
   "source": [
    "iface.launch(inbrowser = True)"
   ]
  },
  {
   "cell_type": "code",
   "execution_count": null,
   "id": "93071429-3e31-41a1-9f95-92d237c6fd4b",
   "metadata": {},
   "outputs": [],
   "source": []
  }
 ],
 "metadata": {
  "kernelspec": {
   "display_name": "Python 3 (ipykernel)",
   "language": "python",
   "name": "python3"
  },
  "language_info": {
   "codemirror_mode": {
    "name": "ipython",
    "version": 3
   },
   "file_extension": ".py",
   "mimetype": "text/x-python",
   "name": "python",
   "nbconvert_exporter": "python",
   "pygments_lexer": "ipython3",
   "version": "3.11.11"
  }
 },
 "nbformat": 4,
 "nbformat_minor": 5
}
